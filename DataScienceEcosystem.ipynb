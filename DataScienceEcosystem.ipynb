{
 "cells": [
  {
   "cell_type": "markdown",
   "id": "86b20671-0f0e-415e-9048-01300d9632ca",
   "metadata": {},
   "source": [
    "# Data Science Tools and Ecosystem"
   ]
  },
  {
   "attachments": {},
   "cell_type": "markdown",
   "id": "7820eafb-da50-46e0-82cd-14a452161904",
   "metadata": {},
   "source": [
    "In this notebook, Data Science Tools and Ecosystem are summarized."
   ]
  },
  {
   "cell_type": "markdown",
   "id": "61efe907-866c-4c4b-9dee-6eb979568ecd",
   "metadata": {},
   "source": [
    "__Objectives:__\n",
    "- Learn about Data Science languages\n",
    "- Review commonly used Data Science libraries\n",
    "- Install Data Science tools"
   ]
  },
  {
   "cell_type": "markdown",
   "id": "37cf5439-c89b-440c-9aa5-6a269609b468",
   "metadata": {},
   "source": [
    "Some of the popular languages that Data Scientists use are:\n",
    "1. Python\n",
    "2. R\n",
    "3. SQL\n",
    "4. Java"
   ]
  },
  {
   "cell_type": "markdown",
   "id": "bd5463ec-718a-424a-a653-dc7988c295df",
   "metadata": {},
   "source": [
    "Some of the commonly used libraries used by Data Scientists include:\n",
    "1. numpy\n",
    "2. pandas\n",
    "3. matplotlib\n",
    "4. seaborn\n",
    "5. pyTorch"
   ]
  },
  {
   "cell_type": "markdown",
   "id": "dfd5464d-174d-42bf-b8ab-6ac9823f9cb5",
   "metadata": {},
   "source": [
    "| Data Science Tools |\n",
    "| ----|\n",
    "| JupyterLab|\n",
    "| Anaconda |\n",
    "| GitHub |\n",
    "| RStudio |"
   ]
  },
  {
   "cell_type": "markdown",
   "id": "21fa771f-432c-4263-8827-d1386822a467",
   "metadata": {},
   "source": [
    "### Below are a few examples of evaluating arithmetic expressions in Python."
   ]
  },
  {
   "cell_type": "code",
   "execution_count": 1,
   "id": "334929a8-08a2-47db-9531-9f4516c687cb",
   "metadata": {},
   "outputs": [
    {
     "data": {
      "text/plain": [
       "17"
      ]
     },
     "execution_count": 1,
     "metadata": {},
     "output_type": "execute_result"
    }
   ],
   "source": [
    "#This a simple arithmetic expression to mutiply then add integers.\n",
    "(3*4)+5"
   ]
  },
  {
   "cell_type": "code",
   "execution_count": 2,
   "id": "51cae6f5-1a8e-48c6-a31d-8e2800eefef8",
   "metadata": {},
   "outputs": [
    {
     "data": {
      "text/plain": [
       "3.3333333333333335"
      ]
     },
     "execution_count": 2,
     "metadata": {},
     "output_type": "execute_result"
    }
   ],
   "source": [
    "#This will convert 200 minutes to hours by diving by 60.\n",
    "200/60"
   ]
  },
  {
   "cell_type": "markdown",
   "id": "48d5ac7a-02d3-4223-9743-ffefc5836cac",
   "metadata": {},
   "source": [
    "## Author\n",
    "Febrian Gunawan"
   ]
  },
  {
   "cell_type": "code",
   "execution_count": null,
   "id": "20cf2bd3-e587-449c-9ce4-6e21c282e7fa",
   "metadata": {},
   "outputs": [],
   "source": []
  }
 ],
 "metadata": {
  "kernelspec": {
   "display_name": "Python 3 (ipykernel)",
   "language": "python",
   "name": "python3"
  },
  "language_info": {
   "codemirror_mode": {
    "name": "ipython",
    "version": 3
   },
   "file_extension": ".py",
   "mimetype": "text/x-python",
   "name": "python",
   "nbconvert_exporter": "python",
   "pygments_lexer": "ipython3",
   "version": "3.12.7"
  }
 },
 "nbformat": 4,
 "nbformat_minor": 5
}
